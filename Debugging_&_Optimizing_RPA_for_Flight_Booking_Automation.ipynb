{
  "nbformat": 4,
  "nbformat_minor": 0,
  "metadata": {
    "colab": {
      "provenance": [],
      "authorship_tag": "ABX9TyOACLn3pCsjLabBJVTS5yN7",
      "include_colab_link": true
    },
    "kernelspec": {
      "name": "python3",
      "display_name": "Python 3"
    },
    "language_info": {
      "name": "python"
    }
  },
  "cells": [
    {
      "cell_type": "markdown",
      "metadata": {
        "id": "view-in-github",
        "colab_type": "text"
      },
      "source": [
        "<a href=\"https://colab.research.google.com/github/OugoMartin/Debugging-Optimizing-RPA-for-Flight-Booking-Automation.ipynb/blob/main/Debugging_%26_Optimizing_RPA_for_Flight_Booking_Automation.ipynb\" target=\"_parent\"><img src=\"https://colab.research.google.com/assets/colab-badge.svg\" alt=\"Open In Colab\"/></a>"
      ]
    },
    {
      "cell_type": "code",
      "execution_count": 1,
      "metadata": {
        "colab": {
          "base_uri": "https://localhost:8080/"
        },
        "id": "BVw-mAvxuU7M",
        "outputId": "7d4ae5b9-2be8-4e93-d01f-bca24754ae47"
      },
      "outputs": [
        {
          "output_type": "stream",
          "name": "stdout",
          "text": [
            "{'PNR': 'MTW63H', 'Passenger': 'Sam Wanga', 'Origin': 'PEK', 'Destination': 'LAX', 'Fare': '$266', 'Status': 'Confirmed'}\n",
            "{'PNR': 'ADB5OD', 'Passenger': 'James John', 'Origin': 'SIN', 'Destination': 'JFK', 'Fare': '$102', 'Status': 'Checked-in'}\n",
            "{'PNR': 'PMUAGP', 'Passenger': 'Oliver Miller', 'Origin': 'DXB', 'Destination': 'LAX', 'Fare': '$108', 'Status': 'Checked-in'}\n",
            "{'PNR': 'PFXX8S', 'Passenger': 'Osman Otieno', 'Origin': 'CDG', 'Destination': 'SYD', 'Fare': '$235', 'Status': 'Confirmed'}\n",
            "{'PNR': 'OVJ78Y', 'Passenger': 'John Ogutu', 'Origin': 'DXB', 'Destination': 'CDG', 'Fare': '$181', 'Status': 'Confirmed'}\n",
            "{'PNR': 'GXXX6B', 'Passenger': 'Lydia Ngare', 'Origin': 'FRA', 'Destination': 'SIN', 'Fare': '$237', 'Status': 'Checked-in'}\n",
            "{'PNR': '7E2AY4', 'Passenger': 'Sam Wanga', 'Origin': 'DXB', 'Destination': 'LAX', 'Fare': '$202', 'Status': 'Canceled'}\n",
            "{'PNR': '8Q7REY', 'Passenger': 'Oliver Miller', 'Origin': 'SIN', 'Destination': 'JFK', 'Fare': '$221', 'Status': 'Checked-in'}\n",
            "{'PNR': 'IW5HCX', 'Passenger': 'Jemimah Ngare', 'Origin': 'JFK', 'Destination': 'CDG', 'Fare': '$164', 'Status': 'Confirmed'}\n",
            "{'PNR': 'WBH90Y', 'Passenger': 'Oliver Miller', 'Origin': 'DXB', 'Destination': 'LAX', 'Fare': '$171', 'Status': 'Checked-in'}\n",
            "{'PNR': 'BX2RT1', 'Passenger': 'Sam Wanga', 'Origin': 'DXB', 'Destination': 'SIN', 'Fare': '$224', 'Status': 'Canceled'}\n",
            "{'PNR': 'KZQ3R3', 'Passenger': 'Oliver Miller', 'Origin': 'LHR', 'Destination': 'DXB', 'Fare': '$102', 'Status': 'Canceled'}\n",
            "{'PNR': '4VPE5O', 'Passenger': 'Harper Clark', 'Origin': 'SIN', 'Destination': 'LAX', 'Fare': '$234', 'Status': 'Pending'}\n",
            "{'PNR': 'V6ZHDP', 'Passenger': 'Harper Clark', 'Origin': 'CDG', 'Destination': 'JFK', 'Fare': '$297', 'Status': 'Checked-in'}\n",
            "{'PNR': 'O28EHN', 'Passenger': 'Lydia Ngare', 'Origin': 'PEK', 'Destination': 'HKG', 'Fare': '$122', 'Status': 'Pending'}\n",
            "{'PNR': '25CVM0', 'Passenger': 'Lydia Ngare', 'Origin': 'SYD', 'Destination': 'DXB', 'Fare': '$242', 'Status': 'Confirmed'}\n",
            "{'PNR': '0J4ZDE', 'Passenger': 'John Ogutu', 'Origin': 'PEK', 'Destination': 'FRA', 'Fare': '$138', 'Status': 'Pending'}\n",
            "{'PNR': 'M6RDRI', 'Passenger': 'Benard Ngare', 'Origin': 'LAX', 'Destination': 'HND', 'Fare': '$130', 'Status': 'Confirmed'}\n",
            "{'PNR': 'NWEEVS', 'Passenger': 'Ethan Thomas', 'Origin': 'DXB', 'Destination': 'FRA', 'Fare': '$129', 'Status': 'Pending'}\n",
            "{'PNR': '641YB2', 'Passenger': 'Harper Clark', 'Origin': 'SIN', 'Destination': 'HND', 'Fare': '$110', 'Status': 'Confirmed'}\n",
            "{'PNR': 'FYALHS', 'Passenger': 'Jackie Junior', 'Origin': 'SIN', 'Destination': 'PEK', 'Fare': '$175', 'Status': 'Pending'}\n",
            "{'PNR': 'GNCZOK', 'Passenger': 'James John', 'Origin': 'LHR', 'Destination': 'PEK', 'Fare': '$100', 'Status': 'Confirmed'}\n",
            "{'PNR': 'SXX4GR', 'Passenger': 'James John', 'Origin': 'FRA', 'Destination': 'HKG', 'Fare': '$143', 'Status': 'Pending'}\n",
            "{'PNR': 'LQB4MK', 'Passenger': 'Jeff Jabez', 'Origin': 'HND', 'Destination': 'SYD', 'Fare': '$250', 'Status': 'Confirmed'}\n",
            "{'PNR': 'JS4YT7', 'Passenger': 'Martin Ougo', 'Origin': 'DXB', 'Destination': 'HND', 'Fare': '$184', 'Status': 'Confirmed'}\n",
            "{'PNR': 'L1KMX8', 'Passenger': 'James John', 'Origin': 'CDG', 'Destination': 'DXB', 'Fare': '$192', 'Status': 'Confirmed'}\n",
            "{'PNR': 'KPZSOO', 'Passenger': 'Thomas Junior', 'Origin': 'LAX', 'Destination': 'DXB', 'Fare': '$219', 'Status': 'Canceled'}\n",
            "{'PNR': 'LKHRMD', 'Passenger': 'Osman Otieno', 'Origin': 'HKG', 'Destination': 'SIN', 'Fare': '$145', 'Status': 'Confirmed'}\n",
            "{'PNR': 'SSB4JP', 'Passenger': 'Jackie Junior', 'Origin': 'CDG', 'Destination': 'LAX', 'Fare': '$117', 'Status': 'Pending'}\n",
            "{'PNR': 'IQSWDR', 'Passenger': 'Jemimah Ngare', 'Origin': 'JFK', 'Destination': 'FRA', 'Fare': '$267', 'Status': 'Confirmed'}\n",
            "{'PNR': 'L1A4W1', 'Passenger': 'John Ogutu', 'Origin': 'PEK', 'Destination': 'SYD', 'Fare': '$170', 'Status': 'Checked-in'}\n",
            "{'PNR': 'WI880U', 'Passenger': 'Charlotte White', 'Origin': 'SIN', 'Destination': 'JFK', 'Fare': '$218', 'Status': 'Canceled'}\n",
            "{'PNR': 'BYMJJ4', 'Passenger': 'Jeff Jabez', 'Origin': 'LHR', 'Destination': 'SIN', 'Fare': '$292', 'Status': 'Checked-in'}\n",
            "{'PNR': '4KHW71', 'Passenger': 'Benard Ngare', 'Origin': 'HND', 'Destination': 'FRA', 'Fare': '$193', 'Status': 'Checked-in'}\n",
            "{'PNR': '2WU0JE', 'Passenger': 'Jemimah Ngare', 'Origin': 'FRA', 'Destination': 'JFK', 'Fare': '$212', 'Status': 'Pending'}\n",
            "{'PNR': 'OP2PSL', 'Passenger': 'Harper Clark', 'Origin': 'SYD', 'Destination': 'PEK', 'Fare': '$129', 'Status': 'Confirmed'}\n",
            "{'PNR': 'OT3FA0', 'Passenger': 'Jemimah Ngare', 'Origin': 'SIN', 'Destination': 'CDG', 'Fare': '$273', 'Status': 'Canceled'}\n",
            "{'PNR': 'M5FI4A', 'Passenger': 'Thomas Junior', 'Origin': 'FRA', 'Destination': 'SIN', 'Fare': '$185', 'Status': 'Canceled'}\n",
            "{'PNR': 'C8TVN1', 'Passenger': 'Jackie Junior', 'Origin': 'FRA', 'Destination': 'PEK', 'Fare': '$268', 'Status': 'Confirmed'}\n",
            "{'PNR': '0XHUC6', 'Passenger': 'Jeff Jabez', 'Origin': 'LHR', 'Destination': 'HKG', 'Fare': '$122', 'Status': 'Pending'}\n",
            "{'PNR': 'MWA42I', 'Passenger': 'Jackie Junior', 'Origin': 'HKG', 'Destination': 'CDG', 'Fare': '$249', 'Status': 'Pending'}\n",
            "{'PNR': 'FF9L1N', 'Passenger': 'Charlotte White', 'Origin': 'LAX', 'Destination': 'FRA', 'Fare': '$181', 'Status': 'Canceled'}\n",
            "{'PNR': '2CTOQE', 'Passenger': 'Thomas Junior', 'Origin': 'HND', 'Destination': 'HKG', 'Fare': '$199', 'Status': 'Pending'}\n",
            "{'PNR': 'KJ4BR4', 'Passenger': 'Thomas Junior', 'Origin': 'HKG', 'Destination': 'CDG', 'Fare': '$193', 'Status': 'Checked-in'}\n",
            "{'PNR': 'T6SEHE', 'Passenger': 'Jemimah Ngare', 'Origin': 'LAX', 'Destination': 'DXB', 'Fare': '$122', 'Status': 'Pending'}\n",
            "{'PNR': 'NZHSEY', 'Passenger': 'Harper Clark', 'Origin': 'HKG', 'Destination': 'FRA', 'Fare': '$173', 'Status': 'Checked-in'}\n",
            "{'PNR': '77P3KH', 'Passenger': 'Martin Ougo', 'Origin': 'DXB', 'Destination': 'JFK', 'Fare': '$134', 'Status': 'Checked-in'}\n",
            "{'PNR': 'QHV6G7', 'Passenger': 'Jackie Junior', 'Origin': 'CDG', 'Destination': 'HND', 'Fare': '$203', 'Status': 'Pending'}\n",
            "{'PNR': '2VNF0N', 'Passenger': 'James John', 'Origin': 'DXB', 'Destination': 'SYD', 'Fare': '$232', 'Status': 'Confirmed'}\n",
            "{'PNR': 'CHUCX5', 'Passenger': 'John Ogutu', 'Origin': 'FRA', 'Destination': 'LHR', 'Fare': '$298', 'Status': 'Confirmed'}\n"
          ]
        }
      ],
      "source": [
        "import random\n",
        "import string\n",
        "\n",
        "def generate_pnr():\n",
        "    \"\"\"Generates a random 6-character PNR (Passenger Name Record).\"\"\"\n",
        "    letters_and_digits = string.ascii_uppercase + string.digits\n",
        "    return ''.join(random.choice(letters_and_digits) for _ in range(6))\n",
        "\n",
        "def generate_flight_reservations(num_reservations=50):\n",
        "    \"\"\"\n",
        "    Generates a list of fake flight reservations.\n",
        "\n",
        "    Args:\n",
        "        num_reservations (int): The number of reservations to generate.\n",
        "\n",
        "    Returns:\n",
        "        list: A list of dictionaries, each representing a flight reservation.\n",
        "    \"\"\"\n",
        "    passengers = [\n",
        "        \"Martin Ougo\", \"Sam Wanga\", \"Osman Otieno\", \"Jemimah Ngare\", \"Benard Ngare\",\n",
        "        \"Oliver Miller\", \"James John\", \"John Ogutu\", \"Jackie Junior\", \"Jeff Jabez\",\n",
        "        \"Lydia Ngare\", \"Ethan Thomas\", \"Charlotte White\", \"Thomas Junior\", \"Harper Clark\"\n",
        "    ]\n",
        "    origins = [\"JFK\", \"LAX\", \"HND\", \"LHR\", \"SIN\", \"FRA\", \"PEK\", \"HKG\", \"CDG\", \"DXB\", \"SYD\"]\n",
        "    destinations = [\"JFK\", \"LAX\", \"HND\", \"LHR\", \"SIN\", \"FRA\", \"PEK\", \"HKG\", \"CDG\", \"DXB\", \"SYD\"]\n",
        "    statuses = [\"Confirmed\", \"Checked-in\", \"Pending\", \"Canceled\"]\n",
        "\n",
        "    reservations = []\n",
        "    for i in range(num_reservations):\n",
        "        pnr = generate_pnr()\n",
        "        passenger = random.choice(passengers)\n",
        "        origin = random.choice(origins)\n",
        "        destination = random.choice(destinations)\n",
        "        # Ensure origin and destination are not the same\n",
        "        while origin == destination:\n",
        "            destination = random.choice(destinations)\n",
        "        fare = f\"${random.randint(100, 300)}\"\n",
        "        status = random.choice(statuses)\n",
        "\n",
        "        reservation = {\n",
        "            \"PNR\": pnr,\n",
        "            \"Passenger\": passenger,\n",
        "            \"Origin\": origin,\n",
        "            \"Destination\": destination,\n",
        "            \"Fare\": fare,\n",
        "            \"Status\": status,\n",
        "        }\n",
        "        reservations.append(reservation)\n",
        "\n",
        "    return reservations\n",
        "\n",
        "if __name__ == '__main__':\n",
        "    flight_reservations = generate_flight_reservations()\n",
        "    for reservation in flight_reservations:\n",
        "        print(reservation)"
      ]
    }
  ]
}